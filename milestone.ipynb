{
  "nbformat": 4,
  "nbformat_minor": 0,
  "metadata": {
    "colab": {
      "provenance": []
    },
    "kernelspec": {
      "name": "python3",
      "display_name": "Python 3"
    },
    "language_info": {
      "name": "python"
    }
  },
  "cells": [
    {
      "cell_type": "code",
      "execution_count": 2,
      "metadata": {
        "colab": {
          "base_uri": "https://localhost:8080/"
        },
        "collapsed": true,
        "id": "UEvP9ONBKxdO",
        "outputId": "f64f5af1-f5c2-436d-9625-771fe4cd89bc"
      },
      "outputs": [
        {
          "output_type": "stream",
          "name": "stdout",
          "text": [
            "Collecting OpenDatasets\n",
            "  Downloading opendatasets-0.1.22-py3-none-any.whl.metadata (9.2 kB)\n",
            "Requirement already satisfied: tqdm in /usr/local/lib/python3.10/dist-packages (from OpenDatasets) (4.66.6)\n",
            "Requirement already satisfied: kaggle in /usr/local/lib/python3.10/dist-packages (from OpenDatasets) (1.6.17)\n",
            "Requirement already satisfied: click in /usr/local/lib/python3.10/dist-packages (from OpenDatasets) (8.1.7)\n",
            "Requirement already satisfied: six>=1.10 in /usr/local/lib/python3.10/dist-packages (from kaggle->OpenDatasets) (1.16.0)\n",
            "Requirement already satisfied: certifi>=2023.7.22 in /usr/local/lib/python3.10/dist-packages (from kaggle->OpenDatasets) (2024.8.30)\n",
            "Requirement already satisfied: python-dateutil in /usr/local/lib/python3.10/dist-packages (from kaggle->OpenDatasets) (2.8.2)\n",
            "Requirement already satisfied: requests in /usr/local/lib/python3.10/dist-packages (from kaggle->OpenDatasets) (2.32.3)\n",
            "Requirement already satisfied: python-slugify in /usr/local/lib/python3.10/dist-packages (from kaggle->OpenDatasets) (8.0.4)\n",
            "Requirement already satisfied: urllib3 in /usr/local/lib/python3.10/dist-packages (from kaggle->OpenDatasets) (2.2.3)\n",
            "Requirement already satisfied: bleach in /usr/local/lib/python3.10/dist-packages (from kaggle->OpenDatasets) (6.2.0)\n",
            "Requirement already satisfied: webencodings in /usr/local/lib/python3.10/dist-packages (from bleach->kaggle->OpenDatasets) (0.5.1)\n",
            "Requirement already satisfied: text-unidecode>=1.3 in /usr/local/lib/python3.10/dist-packages (from python-slugify->kaggle->OpenDatasets) (1.3)\n",
            "Requirement already satisfied: charset-normalizer<4,>=2 in /usr/local/lib/python3.10/dist-packages (from requests->kaggle->OpenDatasets) (3.4.0)\n",
            "Requirement already satisfied: idna<4,>=2.5 in /usr/local/lib/python3.10/dist-packages (from requests->kaggle->OpenDatasets) (3.10)\n",
            "Downloading opendatasets-0.1.22-py3-none-any.whl (15 kB)\n",
            "Installing collected packages: OpenDatasets\n",
            "Successfully installed OpenDatasets-0.1.22\n"
          ]
        }
      ],
      "source": [
        "!pip install OpenDatasets\n",
        "\n",
        "\n",
        "\n"
      ]
    },
    {
      "cell_type": "code",
      "source": [
        "import opendatasets as od\n",
        "od.download(\"https://www.kaggle.com/datasets/mahirahmzh/starbucks-customer-retention-malaysia-survey?select=Starbucks+satisfactory+survey.csv\")"
      ],
      "metadata": {
        "colab": {
          "base_uri": "https://localhost:8080/"
        },
        "id": "TJGDJ6HqMhUQ",
        "outputId": "949533d1-1305-4c4e-8493-5a2ed6d3c78a"
      },
      "execution_count": 11,
      "outputs": [
        {
          "output_type": "stream",
          "name": "stdout",
          "text": [
            "Skipping, found downloaded files in \"./starbucks-customer-retention-malaysia-survey\" (use force=True to force download)\n"
          ]
        }
      ]
    },
    {
      "cell_type": "code",
      "source": [
        "import pandas as pd\n",
        "df = pd.read_csv('/content/starbucks-customer-retention-malaysia-survey/Starbucks satisfactory survey.csv')\n",
        "df.info()"
      ],
      "metadata": {
        "colab": {
          "base_uri": "https://localhost:8080/"
        },
        "id": "RtyhmNDpNDlF",
        "outputId": "543b1fed-f096-4f02-c425-d85e7c73f98b"
      },
      "execution_count": 12,
      "outputs": [
        {
          "output_type": "stream",
          "name": "stdout",
          "text": [
            "<class 'pandas.core.frame.DataFrame'>\n",
            "RangeIndex: 122 entries, 0 to 121\n",
            "Data columns (total 21 columns):\n",
            " #   Column                                                                                                                  Non-Null Count  Dtype \n",
            "---  ------                                                                                                                  --------------  ----- \n",
            " 0   Timestamp                                                                                                               122 non-null    object\n",
            " 1   1. Your Gender                                                                                                          122 non-null    object\n",
            " 2   2. Your Age                                                                                                             122 non-null    object\n",
            " 3   3. Are you currently....?                                                                                               122 non-null    object\n",
            " 4   4. What is your annual income?                                                                                          122 non-null    object\n",
            " 5   5. How often do you visit Starbucks?                                                                                    122 non-null    object\n",
            " 6   6. How do you usually enjoy Starbucks?                                                                                  121 non-null    object\n",
            " 7   7. How much time do you normally  spend during your visit?                                                              122 non-null    object\n",
            " 8   8. The nearest Starbucks's outlet to you is...?                                                                         122 non-null    object\n",
            " 9   9. Do you have Starbucks membership card?                                                                               122 non-null    object\n",
            " 10  10. What do you most frequently purchase at Starbucks?                                                                  122 non-null    object\n",
            " 11  11. On average, how much would you spend at Starbucks per visit?                                                        122 non-null    object\n",
            " 12  12. How would you rate the quality of Starbucks compared to other brands (Coffee Bean, Old Town White Coffee..) to be:  122 non-null    int64 \n",
            " 13  13. How would you rate the price range at Starbucks?                                                                    122 non-null    int64 \n",
            " 14  14. How important are sales and promotions in your purchase decision?                                                   122 non-null    int64 \n",
            " 15  15. How would you rate the ambiance at Starbucks? (lighting, music, etc...)                                             122 non-null    int64 \n",
            " 16  16. You rate the WiFi quality at Starbucks as..                                                                         122 non-null    int64 \n",
            " 17  17. How would you rate the service at Starbucks? (Promptness, friendliness, etc..)                                      122 non-null    int64 \n",
            " 18  18. How likely you will choose Starbucks for doing business meetings or hangout with friends?                           122 non-null    int64 \n",
            " 19  19. How do you come to hear of promotions at Starbucks? Check all that apply.                                           121 non-null    object\n",
            " 20  20. Will you continue buying at Starbucks?                                                                              122 non-null    object\n",
            "dtypes: int64(7), object(14)\n",
            "memory usage: 20.1+ KB\n"
          ]
        }
      ]
    },
    {
      "cell_type": "markdown",
      "source": [
        "we donot have any null values"
      ],
      "metadata": {
        "id": "D4K5wj4fX3I8"
      }
    },
    {
      "cell_type": "code",
      "source": [
        "df.duplicated()"
      ],
      "metadata": {
        "colab": {
          "base_uri": "https://localhost:8080/",
          "height": 458
        },
        "id": "ZQ2hWQUtYGnz",
        "outputId": "01e05002-d18a-43fc-e9b1-ad68d8c4a7ca"
      },
      "execution_count": 13,
      "outputs": [
        {
          "output_type": "execute_result",
          "data": {
            "text/plain": [
              "0      False\n",
              "1      False\n",
              "2      False\n",
              "3      False\n",
              "4      False\n",
              "       ...  \n",
              "117    False\n",
              "118    False\n",
              "119    False\n",
              "120    False\n",
              "121    False\n",
              "Length: 122, dtype: bool"
            ],
            "text/html": [
              "<div>\n",
              "<style scoped>\n",
              "    .dataframe tbody tr th:only-of-type {\n",
              "        vertical-align: middle;\n",
              "    }\n",
              "\n",
              "    .dataframe tbody tr th {\n",
              "        vertical-align: top;\n",
              "    }\n",
              "\n",
              "    .dataframe thead th {\n",
              "        text-align: right;\n",
              "    }\n",
              "</style>\n",
              "<table border=\"1\" class=\"dataframe\">\n",
              "  <thead>\n",
              "    <tr style=\"text-align: right;\">\n",
              "      <th></th>\n",
              "      <th>0</th>\n",
              "    </tr>\n",
              "  </thead>\n",
              "  <tbody>\n",
              "    <tr>\n",
              "      <th>0</th>\n",
              "      <td>False</td>\n",
              "    </tr>\n",
              "    <tr>\n",
              "      <th>1</th>\n",
              "      <td>False</td>\n",
              "    </tr>\n",
              "    <tr>\n",
              "      <th>2</th>\n",
              "      <td>False</td>\n",
              "    </tr>\n",
              "    <tr>\n",
              "      <th>3</th>\n",
              "      <td>False</td>\n",
              "    </tr>\n",
              "    <tr>\n",
              "      <th>4</th>\n",
              "      <td>False</td>\n",
              "    </tr>\n",
              "    <tr>\n",
              "      <th>...</th>\n",
              "      <td>...</td>\n",
              "    </tr>\n",
              "    <tr>\n",
              "      <th>117</th>\n",
              "      <td>False</td>\n",
              "    </tr>\n",
              "    <tr>\n",
              "      <th>118</th>\n",
              "      <td>False</td>\n",
              "    </tr>\n",
              "    <tr>\n",
              "      <th>119</th>\n",
              "      <td>False</td>\n",
              "    </tr>\n",
              "    <tr>\n",
              "      <th>120</th>\n",
              "      <td>False</td>\n",
              "    </tr>\n",
              "    <tr>\n",
              "      <th>121</th>\n",
              "      <td>False</td>\n",
              "    </tr>\n",
              "  </tbody>\n",
              "</table>\n",
              "<p>122 rows × 1 columns</p>\n",
              "</div><br><label><b>dtype:</b> bool</label>"
            ]
          },
          "metadata": {},
          "execution_count": 13
        }
      ]
    }
  ]
}